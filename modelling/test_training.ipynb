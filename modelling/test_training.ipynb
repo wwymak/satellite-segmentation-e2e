{
 "cells": [
  {
   "cell_type": "code",
   "execution_count": 1,
   "metadata": {},
   "outputs": [],
   "source": [
    "from pathlib import Path\n",
    "from collections.abc import Mapping\n",
    "\n",
    "import torch\n",
    "import ignite\n",
    "import ignite.distributed as idist\n",
    "from ignite.contrib.engines import common\n",
    "from ignite.engine import Engine, Events, create_supervised_evaluator\n",
    "from ignite.handlers import DiskSaver\n",
    "from ignite.metrics import ConfusionMatrix, IoU, mIoU\n",
    "from ignite.utils import setup_logger\n",
    "\n",
    "import segmentation_models_pytorch as smp\n"
   ]
  },
  {
   "cell_type": "code",
   "execution_count": 2,
   "metadata": {},
   "outputs": [],
   "source": [
    "import sys\n",
    "\n",
    "from models.unets import unet_resnet\n",
    "from dataflow.dataloaders import get_train_val_loaders\n",
    "from dataflow.transforms import get_train_augmentation, get_validation_augmentation"
   ]
  },
  {
   "cell_type": "code",
   "execution_count": 3,
   "metadata": {},
   "outputs": [],
   "source": [
    "model, preprocessing_function = unet_resnet('efficientnet-b0')"
   ]
  },
  {
   "cell_type": "code",
   "execution_count": 4,
   "metadata": {},
   "outputs": [],
   "source": [
    "lr = 1e-3\n",
    "optimizer = torch.optim.Adam(\n",
    "    [\n",
    "        {\"params\": model.encoder.parameters(), \"lr\": 1e-6},\n",
    "        {\"params\": model.decoder.parameters(), \"lr\": lr / 10},\n",
    "        {\"params\": model.segmentation_head.parameters(), \"lr\": lr},\n",
    "    ],\n",
    "    lr=5e-4,\n",
    ")"
   ]
  },
  {
   "cell_type": "code",
   "execution_count": 5,
   "metadata": {},
   "outputs": [],
   "source": [
    "num_epochs = 10\n",
    "\n",
    "criterion = smp.utils.losses.DiceLoss()\n"
   ]
  },
  {
   "cell_type": "code",
   "execution_count": 6,
   "metadata": {},
   "outputs": [],
   "source": [
    "debug=True\n",
    "\n",
    "num_classes = 1\n",
    "\n",
    "batch_size = 8 * idist.get_world_size()  # total batch size\n",
    "val_batch_size = batch_size * 2\n",
    "num_workers = 12\n",
    "val_interval = 3\n",
    "accumulation_steps = 4\n",
    "\n",
    "val_img_size = 513\n",
    "train_img_size = 480\n",
    "data_dir = Path('/media/wwymak/Storage/spacenet/AOI_3_Paris_Train')\n",
    "image_dir = data_dir / 'RGB-PanSharpen'\n",
    "mask_dir = data_dir / 'masks'\n",
    "summary_data_filepath = data_dir / 'summaryData' / 'AOI_3_Paris_Train_Building_Solutions.csv'\n",
    "train_loader, val_loader, train_eval_loader = get_train_val_loaders(\n",
    "    image_dir=image_dir,\n",
    "    mask_dir=mask_dir,\n",
    "    summary_data_filepath=summary_data_filepath,\n",
    "    train_transforms=get_train_augmentation(),\n",
    "    val_transforms=get_validation_augmentation(),\n",
    "    train_ratio=0.8,\n",
    "    batch_size=batch_size,\n",
    "    num_workers=num_workers,\n",
    "    limit_train_num_samples=100 if debug else None,\n",
    "    limit_val_num_samples=100 if debug else None,\n",
    ")"
   ]
  },
  {
   "cell_type": "code",
   "execution_count": 7,
   "metadata": {},
   "outputs": [
    {
     "ename": "NameError",
     "evalue": "name 'create_supervised_trainer' is not defined",
     "output_type": "error",
     "traceback": [
      "\u001b[0;31m---------------------------------------------------------------------------\u001b[0m",
      "\u001b[0;31mNameError\u001b[0m                                 Traceback (most recent call last)",
      "\u001b[0;32m<ipython-input-7-288b64eae1fe>\u001b[0m in \u001b[0;36m<module>\u001b[0;34m\u001b[0m\n\u001b[0;32m----> 1\u001b[0;31m \u001b[0mtrainer\u001b[0m \u001b[0;34m=\u001b[0m \u001b[0mcreate_supervised_trainer\u001b[0m\u001b[0;34m(\u001b[0m\u001b[0mmodel\u001b[0m\u001b[0;34m,\u001b[0m \u001b[0moptimizer\u001b[0m\u001b[0;34m,\u001b[0m \u001b[0mcriterion\u001b[0m\u001b[0;34m,\u001b[0m \u001b[0mdevice\u001b[0m\u001b[0;34m=\u001b[0m\u001b[0mdevice\u001b[0m\u001b[0;34m)\u001b[0m\u001b[0;34m\u001b[0m\u001b[0;34m\u001b[0m\u001b[0m\n\u001b[0m\u001b[1;32m      2\u001b[0m \u001b[0mtrainer\u001b[0m\u001b[0;34m.\u001b[0m\u001b[0mlogger\u001b[0m \u001b[0;34m=\u001b[0m \u001b[0msetup_logger\u001b[0m\u001b[0;34m(\u001b[0m\u001b[0;34m\"trainer\"\u001b[0m\u001b[0;34m)\u001b[0m\u001b[0;34m\u001b[0m\u001b[0;34m\u001b[0m\u001b[0m\n",
      "\u001b[0;31mNameError\u001b[0m: name 'create_supervised_trainer' is not defined"
     ]
    }
   ],
   "source": [
    " trainer = create_supervised_trainer(model, optimizer, criterion, device=device)\n",
    "trainer.logger = setup_logger(\"trainer\")"
   ]
  },
  {
   "cell_type": "code",
   "execution_count": null,
   "metadata": {},
   "outputs": [],
   "source": []
  }
 ],
 "metadata": {
  "kernelspec": {
   "display_name": "Python [conda env:solaris]",
   "language": "python",
   "name": "conda-env-solaris-py"
  },
  "language_info": {
   "codemirror_mode": {
    "name": "ipython",
    "version": 3
   },
   "file_extension": ".py",
   "mimetype": "text/x-python",
   "name": "python",
   "nbconvert_exporter": "python",
   "pygments_lexer": "ipython3",
   "version": "3.7.6"
  }
 },
 "nbformat": 4,
 "nbformat_minor": 2
}
