{
 "cells": [
  {
   "cell_type": "code",
   "execution_count": 1,
   "metadata": {
    "scrolled": true
   },
   "outputs": [
    {
     "name": "stderr",
     "output_type": "stream",
     "text": [
      "/home/wwymak/anaconda3/envs/solaris/lib/python3.7/site-packages/tqdm/std.py:668: FutureWarning: The Panel class is removed from pandas. Accessing it from the top-level namespace will also be removed in the next version\n",
      "  from pandas import Panel\n",
      "/home/wwymak/anaconda3/envs/solaris/lib/python3.7/site-packages/tensorboard/compat/tensorflow_stub/dtypes.py:541: FutureWarning:\n",
      "\n",
      "Passing (type, 1) or '1type' as a synonym of type is deprecated; in a future version of numpy, it will be understood as (type, (1,)) / '(1,)type'.\n",
      "\n",
      "/home/wwymak/anaconda3/envs/solaris/lib/python3.7/site-packages/tensorflow/python/framework/dtypes.py:526: FutureWarning:\n",
      "\n",
      "Passing (type, 1) or '1type' as a synonym of type is deprecated; in a future version of numpy, it will be understood as (type, (1,)) / '(1,)type'.\n",
      "\n"
     ]
    }
   ],
   "source": [
    "from typing import Callable, List, Tuple\n",
    "import collections\n",
    "import os\n",
    "import torch\n",
    "import catalyst\n",
    "\n",
    "from catalyst.dl import utils\n",
    "from torch import nn\n",
    "\n",
    "from catalyst.contrib.nn import DiceLoss, IoULoss\n",
    "from catalyst.dl import SupervisedRunner\n",
    "\n",
    "from pathlib import Path\n",
    "from models.unets import unet_resnet\n",
    "from dataflow.dataloaders import get_train_val_loaders\n",
    "from dataflow.visualisations import tensor_to_rgb\n",
    "from dataflow.transforms import get_train_augmentation, get_validation_augmentation, prepare_batch_fp32, get_preprocessing\n",
    "%matplotlib inline\n",
    "%load_ext autoreload\n",
    "%autoreload 2"
   ]
  },
  {
   "cell_type": "code",
   "execution_count": 2,
   "metadata": {},
   "outputs": [],
   "source": [
    "data_dir = Path('/media/wwymak/Storage/spacenet/AOI_3_Paris_Train')\n",
    "image_dir = data_dir / 'RGB-PanSharpen'\n",
    "mask_dir = data_dir / 'masks'\n",
    "summary_data_filepath = data_dir / 'summaryData' / 'AOI_3_Paris_Train_Building_Solutions.csv'\n"
   ]
  },
  {
   "cell_type": "code",
   "execution_count": 17,
   "metadata": {},
   "outputs": [
    {
     "name": "stdout",
     "output_type": "stream",
     "text": [
      "(17148, 4)\n",
      "(16633, 4)\n"
     ]
    }
   ],
   "source": [
    "debug=False\n",
    "batch_size = 8 \n",
    "val_batch_size = batch_size * 2\n",
    "num_workers = 12\n",
    "val_interval = 3\n",
    "accumulation_steps = 4\n",
    "\n",
    "train_loader, val_loader, train_eval_loader = get_train_val_loaders(\n",
    "    image_dir=image_dir,\n",
    "    mask_dir=mask_dir,\n",
    "    summary_data_filepath=summary_data_filepath,\n",
    "    train_transforms=get_train_augmentation(512),\n",
    "    val_transforms=get_validation_augmentation(512),\n",
    "    train_ratio=0.8,\n",
    "    batch_size=batch_size,\n",
    "    num_workers=num_workers,\n",
    "    limit_train_num_samples=100 if debug else None,\n",
    "    limit_val_num_samples=100 if debug else None,\n",
    ")\n",
    "\n",
    "loaders = collections.OrderedDict()\n",
    "loaders[\"train\"] = train_loader\n",
    "loaders[\"valid\"] = val_loader"
   ]
  },
  {
   "cell_type": "code",
   "execution_count": 18,
   "metadata": {},
   "outputs": [],
   "source": [
    "import segmentation_models_pytorch as smp\n",
    "\n",
    "# We will use Feature Pyramid Network with pre-trained ResNeXt50 backbone\n",
    "model = smp.Unet(encoder_name=\"efficientnet-b0\", classes=1)"
   ]
  },
  {
   "cell_type": "code",
   "execution_count": 19,
   "metadata": {},
   "outputs": [],
   "source": [
    "\n",
    "# we have multiple criterions\n",
    "criterion = {\n",
    "    \"dice\": DiceLoss(),\n",
    "    \"iou\": IoULoss(),\n",
    "    \"bce\": nn.BCEWithLogitsLoss()\n",
    "}\n",
    "\n",
    "from torch import optim\n",
    "\n",
    "from catalyst.contrib.nn import RAdam, Lookahead\n",
    "\n",
    "learning_rate = 0.001\n",
    "encoder_learning_rate = 0.0005\n",
    "\n",
    "# model, preprocessing_function = unet_resnet('efficientnet-b0')\n",
    "# Since we use a pre-trained encoder, we will reduce the learning rate on it.\n",
    "layerwise_params = {\"encoder*\": dict(lr=encoder_learning_rate, weight_decay=0.00003)}\n",
    "\n",
    "# This function removes weight_decay for biases and applies our layerwise_params\n",
    "model_params = utils.process_model_params(model, layerwise_params=layerwise_params)\n",
    "\n",
    "# Catalyst has new SOTA optimizers out of box\n",
    "base_optimizer = RAdam(model_params, lr=learning_rate, weight_decay=0.0003)\n",
    "optimizer = Lookahead(base_optimizer)\n",
    "\n",
    "# scheduler = optim.lr_scheduler.CyclicLR(optimizer, factor=0.25, patience=2)\n",
    "scheduler = torch.optim.lr_scheduler.OneCycleLR(optimizer, max_lr=[x['lr'] * 10 for x in model_params], steps_per_epoch=len(train_loader), epochs=50)"
   ]
  },
  {
   "cell_type": "code",
   "execution_count": 20,
   "metadata": {},
   "outputs": [],
   "source": [
    "\n",
    "\n",
    "num_epochs = 50\n",
    "logdir = data_dir /\"logs\"/\"unet_resnet\"\n",
    "\n",
    "device = utils.get_device()\n",
    "# print(f\"device: {device}\")\n",
    "\n",
    "# if is_fp16_used:\n",
    "#     fp16_params = dict(opt_level=\"O1\") # params for FP16\n",
    "# else:\n",
    "#     fp16_params = None\n",
    "\n",
    "# print(f\"FP16 params: {fp16_params}\")\n",
    "\n",
    "\n",
    "# by default SupervisedRunner uses \"features\" and \"targets\",\n",
    "# in our case we get \"image\" and \"mask\" keys in dataset __getitem__\n",
    "runner = SupervisedRunner(device=device, input_key=\"image\", input_target_key=\"mask\")"
   ]
  },
  {
   "cell_type": "code",
   "execution_count": 21,
   "metadata": {
    "scrolled": false
   },
   "outputs": [
    {
     "data": {
      "text/html": [
       "\n",
       "        <iframe\n",
       "            width=\"100%\"\n",
       "            height=\"600\"\n",
       "            src=\"http://localhost:6006\"\n",
       "            frameborder=\"0\"\n",
       "            allowfullscreen\n",
       "        ></iframe>\n",
       "        "
      ],
      "text/plain": [
       "<IPython.lib.display.IFrame at 0x7f64fea50190>"
      ]
     },
     "metadata": {},
     "output_type": "display_data"
    }
   ],
   "source": [
    "%load_ext tensorboard.notebook\n",
    "%tensorboard --logdir {logdir}"
   ]
  },
  {
   "cell_type": "code",
   "execution_count": null,
   "metadata": {},
   "outputs": [
    {
     "name": "stdout",
     "output_type": "stream",
     "text": [
      "\r",
      "1/50 * Epoch (train):   0% 0/63 [00:00<?, ?it/s]"
     ]
    },
    {
     "name": "stderr",
     "output_type": "stream",
     "text": [
      "/opt/conda/conda-bld/pytorch_1591914855613/work/torch/csrc/utils/python_arg_parser.cpp:756: UserWarning:\n",
      "\n",
      "This overload of add is deprecated:\n",
      "\tadd(Number alpha, Tensor other)\n",
      "Consider using one of the following signatures instead:\n",
      "\tadd(Tensor other, *, Number alpha)\n",
      "\n"
     ]
    },
    {
     "name": "stdout",
     "output_type": "stream",
     "text": [
      "1/50 * Epoch (train): 100% 63/63 [00:19<00:00,  3.18it/s, dice=0.252, iou=0.144, loss=2.215, loss_bce=0.764, loss_dice=0.748, loss_iou=0.856]\n",
      "1/50 * Epoch (valid): 100% 16/16 [00:05<00:00,  3.02it/s, dice=0.165, iou=0.090, loss=2.188, loss_bce=0.553, loss_dice=0.835, loss_iou=0.910]\n",
      "[2020-07-25 20:53:04,472] \n",
      "1/50 * Epoch 1 (_base): lr=0.0002 | momentum=0.9500\n",
      "1/50 * Epoch 1 (train): dice=0.2101 | iou=0.1180 | loss=2.3075 | loss_bce=0.7946 | loss_dice=0.7899 | loss_iou=0.8820\n",
      "1/50 * Epoch 1 (valid): dice=0.2052 | iou=0.1147 | loss=2.1564 | loss_bce=0.5953 | loss_dice=0.7948 | loss_iou=0.8853\n"
     ]
    },
    {
     "name": "stderr",
     "output_type": "stream",
     "text": [
      "/home/wwymak/anaconda3/envs/solaris/lib/python3.7/site-packages/torch/optim/lr_scheduler.py:1206: UserWarning:\n",
      "\n",
      "To get the last learning rate computed by the scheduler, please use `get_last_lr()`.\n",
      "\n"
     ]
    },
    {
     "name": "stdout",
     "output_type": "stream",
     "text": [
      "2/50 * Epoch (train): 100% 63/63 [00:16<00:00,  3.71it/s, dice=0.305, iou=0.180, loss=2.047, loss_bce=0.664, loss_dice=0.695, loss_iou=0.820]\n",
      "2/50 * Epoch (valid): 100% 16/16 [00:01<00:00,  9.47it/s, dice=0.178, iou=0.098, loss=2.126, loss_bce=0.501, loss_dice=0.822, loss_iou=0.902]\n",
      "[2020-07-25 20:53:23,398] \n",
      "2/50 * Epoch 2 (_base): lr=0.0002 | momentum=0.9500\n",
      "2/50 * Epoch 2 (train): dice=0.2399 | iou=0.1375 | loss=2.2029 | loss_bce=0.7255 | loss_dice=0.7601 | loss_iou=0.8625\n",
      "2/50 * Epoch 2 (valid): dice=0.2255 | iou=0.1275 | loss=2.0806 | loss_bce=0.5420 | loss_dice=0.7745 | loss_iou=0.8725\n",
      "3/50 * Epoch (train): 100% 63/63 [00:17<00:00,  3.66it/s, dice=0.359, iou=0.219, loss=1.865, loss_bce=0.555, loss_dice=0.641, loss_iou=0.781]\n",
      "3/50 * Epoch (valid): 100% 16/16 [00:01<00:00,  9.49it/s, dice=0.244, iou=0.139, loss=2.012, loss_bce=0.494, loss_dice=0.756, loss_iou=0.861]\n",
      "[2020-07-25 20:53:46,129] \n",
      "3/50 * Epoch 3 (_base): lr=0.0002 | momentum=0.9500\n",
      "3/50 * Epoch 3 (train): dice=0.2764 | iou=0.1610 | loss=2.0849 | loss_bce=0.6530 | loss_dice=0.7236 | loss_iou=0.8390\n",
      "3/50 * Epoch 3 (valid): dice=0.3157 | iou=0.1884 | loss=1.9330 | loss_bce=0.5464 | loss_dice=0.6843 | loss_iou=0.8116\n",
      "4/50 * Epoch (train): 100% 63/63 [00:17<00:00,  3.61it/s, dice=0.205, iou=0.114, loss=2.157, loss_bce=0.595, loss_dice=0.795, loss_iou=0.886]\n",
      "4/50 * Epoch (valid): 100% 16/16 [00:01<00:00,  9.43it/s, dice=0.293, iou=0.172, loss=1.848, loss_bce=0.392, loss_dice=0.707, loss_iou=0.828]\n",
      "[2020-07-25 20:54:07,008] \n",
      "4/50 * Epoch 4 (_base): lr=0.0002 | momentum=0.9500\n",
      "4/50 * Epoch 4 (train): dice=0.3344 | iou=0.2019 | loss=1.9058 | loss_bce=0.5526 | loss_dice=0.6656 | loss_iou=0.7981\n",
      "4/50 * Epoch 4 (valid): dice=0.3527 | iou=0.2153 | loss=1.7817 | loss_bce=0.4370 | loss_dice=0.6473 | loss_iou=0.7847\n",
      "5/50 * Epoch (train): 100% 63/63 [00:17<00:00,  3.64it/s, dice=0.231, iou=0.130, loss=2.014, loss_bce=0.469, loss_dice=0.769, loss_iou=0.870]\n",
      "5/50 * Epoch (valid): 100% 16/16 [00:01<00:00,  9.41it/s, dice=0.358, iou=0.218, loss=1.717, loss_bce=0.367, loss_dice=0.642, loss_iou=0.782]\n",
      "[2020-07-25 20:54:27,660] \n",
      "5/50 * Epoch 5 (_base): lr=0.0002 | momentum=0.9500\n",
      "5/50 * Epoch 5 (train): dice=0.3899 | iou=0.2438 | loss=1.7438 | loss_bce=0.4719 | loss_dice=0.6101 | loss_iou=0.7562\n",
      "5/50 * Epoch 5 (valid): dice=0.4122 | iou=0.2609 | loss=1.6509 | loss_bce=0.4049 | loss_dice=0.5878 | loss_iou=0.7391\n",
      "6/50 * Epoch (train): 100% 63/63 [00:17<00:00,  3.62it/s, dice=0.393, iou=0.245, loss=1.687, loss_bce=0.406, loss_dice=0.607, loss_iou=0.755]\n",
      "6/50 * Epoch (valid): 100% 16/16 [00:01<00:00,  9.32it/s, dice=0.424, iou=0.269, loss=1.516, loss_bce=0.261, loss_dice=0.576, loss_iou=0.731]\n",
      "[2020-07-25 20:54:48,273] \n",
      "6/50 * Epoch 6 (_base): lr=0.0002 | momentum=0.9500\n",
      "6/50 * Epoch 6 (train): dice=0.4326 | iou=0.2775 | loss=1.6169 | loss_bce=0.4089 | loss_dice=0.5674 | loss_iou=0.7225\n",
      "6/50 * Epoch 6 (valid): dice=0.4601 | iou=0.3001 | loss=1.5018 | loss_bce=0.3275 | loss_dice=0.5399 | loss_iou=0.6999\n",
      "7/50 * Epoch (train): 100% 63/63 [00:17<00:00,  3.58it/s, dice=0.456, iou=0.295, loss=1.524, loss_bce=0.344, loss_dice=0.544, loss_iou=0.705]\n",
      "7/50 * Epoch (valid): 100% 16/16 [00:01<00:00,  9.49it/s, dice=0.467, iou=0.305, loss=1.418, loss_bce=0.237, loss_dice=0.533, loss_iou=0.695]\n",
      "[2020-07-25 20:55:08,978] \n",
      "7/50 * Epoch 7 (_base): lr=0.0002 | momentum=0.9500\n",
      "7/50 * Epoch 7 (train): dice=0.4667 | iou=0.3074 | loss=1.5175 | loss_bce=0.3646 | loss_dice=0.5333 | loss_iou=0.6926\n",
      "7/50 * Epoch 7 (valid): dice=0.5020 | iou=0.3365 | loss=1.4017 | loss_bce=0.3003 | loss_dice=0.4980 | loss_iou=0.6635\n",
      "8/50 * Epoch (train): 100% 63/63 [00:16<00:00,  3.71it/s, dice=0.550, iou=0.379, loss=1.345, loss_bce=0.342, loss_dice=0.450, loss_iou=0.621]\n",
      "8/50 * Epoch (valid): 100% 16/16 [00:01<00:00,  9.81it/s, dice=0.507, iou=0.340, loss=1.332, loss_bce=0.223, loss_dice=0.493, loss_iou=0.660]\n",
      "[2020-07-25 20:55:29,343] \n",
      "8/50 * Epoch 8 (_base): lr=0.0002 | momentum=0.9500\n",
      "8/50 * Epoch 8 (train): dice=0.5007 | iou=0.3360 | loss=1.4238 | loss_bce=0.3255 | loss_dice=0.4993 | loss_iou=0.6640\n",
      "8/50 * Epoch 8 (valid): dice=0.5400 | iou=0.3711 | loss=1.3124 | loss_bce=0.2794 | loss_dice=0.4600 | loss_iou=0.6289\n",
      "9/50 * Epoch (train): 100% 63/63 [00:16<00:00,  3.94it/s, dice=0.591, iou=0.419, loss=1.200, loss_bce=0.262, loss_dice=0.409, loss_iou=0.581]\n",
      "9/50 * Epoch (valid): 100% 16/16 [00:01<00:00, 10.06it/s, dice=0.541, iou=0.371, loss=1.242, loss_bce=0.193, loss_dice=0.459, loss_iou=0.629]\n",
      "[2020-07-25 20:55:48,278] \n",
      "9/50 * Epoch 9 (_base): lr=0.0002 | momentum=0.9500\n",
      "9/50 * Epoch 9 (train): dice=0.5349 | iou=0.3671 | loss=1.3349 | loss_bce=0.2961 | loss_dice=0.4651 | loss_iou=0.6329\n",
      "9/50 * Epoch 9 (valid): dice=0.5690 | iou=0.3990 | loss=1.2252 | loss_bce=0.2415 | loss_dice=0.4310 | loss_iou=0.6010\n",
      "10/50 * Epoch (train): 100% 63/63 [00:16<00:00,  3.92it/s, dice=0.598, iou=0.426, loss=1.181, loss_bce=0.257, loss_dice=0.402, loss_iou=0.574]\n",
      "10/50 * Epoch (valid): 100% 16/16 [00:01<00:00, 10.08it/s, dice=0.565, iou=0.394, loss=1.194, loss_bce=0.191, loss_dice=0.435, loss_iou=0.606]\n",
      "[2020-07-25 20:56:07,385] \n",
      "10/50 * Epoch 10 (_base): lr=0.0002 | momentum=0.9500\n",
      "10/50 * Epoch 10 (train): dice=0.5584 | iou=0.3896 | loss=1.2711 | loss_bce=0.2739 | loss_dice=0.4416 | loss_iou=0.6104\n",
      "10/50 * Epoch 10 (valid): dice=0.5944 | iou=0.4241 | loss=1.1700 | loss_bce=0.2356 | loss_dice=0.4056 | loss_iou=0.5759\n",
      "11/50 * Epoch (train): 100% 63/63 [00:15<00:00,  3.98it/s, dice=0.619, iou=0.449, loss=1.144, loss_bce=0.265, loss_dice=0.381, loss_iou=0.551]\n",
      "11/50 * Epoch (valid): 100% 16/16 [00:01<00:00,  9.98it/s, dice=0.595, iou=0.424, loss=1.108, loss_bce=0.159, loss_dice=0.405, loss_iou=0.576]\n",
      "[2020-07-25 20:56:26,465] \n",
      "11/50 * Epoch 11 (_base): lr=0.0002 | momentum=0.9500\n",
      "11/50 * Epoch 11 (train): dice=0.5813 | iou=0.4120 | loss=1.2089 | loss_bce=0.2527 | loss_dice=0.4187 | loss_iou=0.5880\n",
      "11/50 * Epoch 11 (valid): dice=0.6154 | iou=0.4457 | loss=1.1047 | loss_bce=0.2072 | loss_dice=0.3846 | loss_iou=0.5543\n",
      "12/50 * Epoch (train): 100% 63/63 [00:15<00:00,  3.99it/s, dice=0.638, iou=0.469, loss=1.064, loss_bce=0.213, loss_dice=0.362, loss_iou=0.531]\n",
      "12/50 * Epoch (valid): 100% 16/16 [00:01<00:00, 10.16it/s, dice=0.617, iou=0.446, loss=1.055, loss_bce=0.148, loss_dice=0.383, loss_iou=0.554]\n",
      "[2020-07-25 20:56:45,497] \n",
      "12/50 * Epoch 12 (_base): lr=0.0002 | momentum=0.9500\n",
      "12/50 * Epoch 12 (train): dice=0.6105 | iou=0.4419 | loss=1.1330 | loss_bce=0.2319 | loss_dice=0.3895 | loss_iou=0.5581\n",
      "12/50 * Epoch 12 (valid): dice=0.6334 | iou=0.4647 | loss=1.0591 | loss_bce=0.1965 | loss_dice=0.3666 | loss_iou=0.5353\n",
      "13/50 * Epoch (train): 100% 63/63 [00:15<00:00,  4.00it/s, dice=0.658, iou=0.490, loss=1.021, loss_bce=0.211, loss_dice=0.342, loss_iou=0.510]\n",
      "13/50 * Epoch (valid): 100% 16/16 [00:01<00:00, 10.16it/s, dice=0.637, iou=0.468, loss=1.014, loss_bce=0.149, loss_dice=0.363, loss_iou=0.532]\n",
      "[2020-07-25 20:57:04,328] \n",
      "13/50 * Epoch 13 (_base): lr=0.0002 | momentum=0.9500\n",
      "13/50 * Epoch 13 (train): dice=0.6264 | iou=0.4580 | loss=1.0923 | loss_bce=0.2209 | loss_dice=0.3736 | loss_iou=0.5420\n",
      "13/50 * Epoch 13 (valid): dice=0.6558 | iou=0.4888 | loss=1.0129 | loss_bce=0.1970 | loss_dice=0.3442 | loss_iou=0.5112\n",
      "14/50 * Epoch (train): 100% 63/63 [00:16<00:00,  3.80it/s, dice=0.678, iou=0.513, loss=0.965, loss_bce=0.196, loss_dice=0.322, loss_iou=0.487]\n",
      "14/50 * Epoch (valid): 100% 16/16 [00:01<00:00,  9.63it/s, dice=0.651, iou=0.483, loss=0.974, loss_bce=0.136, loss_dice=0.349, loss_iou=0.517]\n",
      "[2020-07-25 20:57:23,948] \n",
      "14/50 * Epoch 14 (_base): lr=0.0002 | momentum=0.9499\n",
      "14/50 * Epoch 14 (train): dice=0.6391 | iou=0.4720 | loss=1.0593 | loss_bce=0.2130 | loss_dice=0.3609 | loss_iou=0.5280\n",
      "14/50 * Epoch 14 (valid): dice=0.6675 | iou=0.5020 | loss=0.9780 | loss_bce=0.1844 | loss_dice=0.3325 | loss_iou=0.4980\n",
      "15/50 * Epoch (train): 100% 63/63 [00:16<00:00,  3.78it/s, dice=0.622, iou=0.451, loss=1.075, loss_bce=0.185, loss_dice=0.378, loss_iou=0.549]\n",
      "15/50 * Epoch (valid): 100% 16/16 [00:01<00:00, 10.21it/s, dice=0.680, iou=0.515, loss=0.915, loss_bce=0.137, loss_dice=0.320, loss_iou=0.485]\n",
      "[2020-07-25 20:57:43,635] \n",
      "15/50 * Epoch 15 (_base): lr=0.0002 | momentum=0.9499\n",
      "15/50 * Epoch 15 (train): dice=0.6597 | iou=0.4939 | loss=1.0084 | loss_bce=0.2024 | loss_dice=0.3403 | loss_iou=0.5061\n",
      "15/50 * Epoch 15 (valid): dice=0.6890 | iou=0.5262 | loss=0.9350 | loss_bce=0.1878 | loss_dice=0.3110 | loss_iou=0.4738\n"
     ]
    },
    {
     "name": "stdout",
     "output_type": "stream",
     "text": [
      "16/50 * Epoch (train): 100% 63/63 [00:16<00:00,  3.87it/s, dice=0.708, iou=0.549, loss=0.890, loss_bce=0.184, loss_dice=0.292, loss_iou=0.451]\n",
      "16/50 * Epoch (valid): 100% 16/16 [00:01<00:00,  9.80it/s, dice=0.690, iou=0.527, loss=0.884, loss_bce=0.126, loss_dice=0.310, loss_iou=0.473]\n",
      "[2020-07-25 20:58:02,918] \n",
      "16/50 * Epoch 16 (_base): lr=0.0002 | momentum=0.9499\n",
      "16/50 * Epoch 16 (train): dice=0.6772 | iou=0.5132 | loss=0.9652 | loss_bce=0.1945 | loss_dice=0.3228 | loss_iou=0.4868\n",
      "16/50 * Epoch 16 (valid): dice=0.6981 | iou=0.5371 | loss=0.9042 | loss_bce=0.1743 | loss_dice=0.3019 | loss_iou=0.4629\n",
      "17/50 * Epoch (train): 100% 63/63 [00:16<00:00,  3.88it/s, dice=0.571, iou=0.400, loss=1.172, loss_bce=0.178, loss_dice=0.429, loss_iou=0.600]\n",
      "17/50 * Epoch (valid): 100% 16/16 [00:01<00:00,  9.61it/s, dice=0.702, iou=0.541, loss=0.860, loss_bce=0.128, loss_dice=0.298, loss_iou=0.459]\n",
      "[2020-07-25 20:58:22,246] \n",
      "17/50 * Epoch 17 (_base): lr=0.0002 | momentum=0.9499\n",
      "17/50 * Epoch 17 (train): dice=0.6835 | iou=0.5203 | loss=0.9529 | loss_bce=0.1958 | loss_dice=0.3165 | loss_iou=0.4797\n",
      "17/50 * Epoch 17 (valid): dice=0.7065 | iou=0.5472 | loss=0.8850 | loss_bce=0.1734 | loss_dice=0.2935 | loss_iou=0.4528\n",
      "18/50 * Epoch (train): 100% 63/63 [00:17<00:00,  3.70it/s, dice=0.719, iou=0.561, loss=0.869, loss_bce=0.185, loss_dice=0.281, loss_iou=0.439]\n",
      "18/50 * Epoch (valid): 100% 16/16 [00:01<00:00, 10.17it/s, dice=0.717, iou=0.558, loss=0.813, loss_bce=0.110, loss_dice=0.283, loss_iou=0.442]\n",
      "[2020-07-25 20:58:42,461] \n",
      "18/50 * Epoch 18 (_base): lr=0.0002 | momentum=0.9499\n",
      "18/50 * Epoch 18 (train): dice=0.6978 | iou=0.5381 | loss=0.9133 | loss_bce=0.1866 | loss_dice=0.3022 | loss_iou=0.4619\n",
      "18/50 * Epoch 18 (valid): dice=0.7175 | iou=0.5601 | loss=0.8464 | loss_bce=0.1549 | loss_dice=0.2825 | loss_iou=0.4399\n",
      "19/50 * Epoch (train): 100% 63/63 [00:16<00:00,  3.91it/s, dice=0.733, iou=0.579, loss=0.859, loss_bce=0.214, loss_dice=0.267, loss_iou=0.421]\n",
      "19/50 * Epoch (valid): 100% 16/16 [00:01<00:00,  9.93it/s, dice=0.728, iou=0.572, loss=0.792, loss_bce=0.114, loss_dice=0.272, loss_iou=0.428]\n",
      "[2020-07-25 20:59:01,526] \n",
      "19/50 * Epoch 19 (_base): lr=0.0002 | momentum=0.9499\n",
      "19/50 * Epoch 19 (train): dice=0.7008 | iou=0.5414 | loss=0.9103 | loss_bce=0.1906 | loss_dice=0.2992 | loss_iou=0.4586\n",
      "19/50 * Epoch 19 (valid): dice=0.7295 | iou=0.5749 | loss=0.8255 | loss_bce=0.1624 | loss_dice=0.2705 | loss_iou=0.4251\n",
      "20/50 * Epoch (train): 100% 63/63 [00:15<00:00,  3.94it/s, dice=0.782, iou=0.642, loss=0.705, loss_bce=0.161, loss_dice=0.218, loss_iou=0.358]\n",
      "20/50 * Epoch (valid): 100% 16/16 [00:01<00:00, 10.13it/s, dice=0.739, iou=0.586, loss=0.766, loss_bce=0.114, loss_dice=0.261, loss_iou=0.414]\n",
      "[2020-07-25 20:59:20,632] \n",
      "20/50 * Epoch 20 (_base): lr=0.0002 | momentum=0.9499\n",
      "20/50 * Epoch 20 (train): dice=0.7200 | iou=0.5637 | loss=0.8631 | loss_bce=0.1835 | loss_dice=0.2800 | loss_iou=0.4363\n",
      "20/50 * Epoch 20 (valid): dice=0.7372 | iou=0.5845 | loss=0.8065 | loss_bce=0.1604 | loss_dice=0.2628 | loss_iou=0.4155\n",
      "21/50 * Epoch (train): 100% 63/63 [00:17<00:00,  3.62it/s, dice=0.734, iou=0.580, loss=0.788, loss_bce=0.128, loss_dice=0.266, loss_iou=0.420]\n",
      "21/50 * Epoch (valid): 100% 16/16 [00:01<00:00,  9.32it/s, dice=0.751, iou=0.601, loss=0.740, loss_bce=0.115, loss_dice=0.249, loss_iou=0.399]\n",
      "[2020-07-25 20:59:41,100] \n",
      "21/50 * Epoch 21 (_base): lr=0.0002 | momentum=0.9499\n",
      "21/50 * Epoch 21 (train): dice=0.7250 | iou=0.5701 | loss=0.8510 | loss_bce=0.1826 | loss_dice=0.2750 | loss_iou=0.4299\n",
      "21/50 * Epoch 21 (valid): dice=0.7429 | iou=0.5915 | loss=0.8009 | loss_bce=0.1690 | loss_dice=0.2571 | loss_iou=0.4085\n",
      "22/50 * Epoch (train):  10% 6/63 [00:02<00:22,  2.52it/s, dice=0.745, iou=0.593, loss=0.821, loss_bce=0.200, loss_dice=0.255, loss_iou=0.407]"
     ]
    }
   ],
   "source": [
    "from catalyst.dl.callbacks import DiceCallback, IouCallback, \\\n",
    "  CriterionCallback, MetricAggregationCallback\n",
    "\n",
    "callbacks = [\n",
    "    # Each criterion is calculated separately.\n",
    "    CriterionCallback(\n",
    "        input_key=\"mask\",\n",
    "        prefix=\"loss_dice\",\n",
    "        criterion_key=\"dice\"\n",
    "    ),\n",
    "    CriterionCallback(\n",
    "        input_key=\"mask\",\n",
    "        prefix=\"loss_iou\",\n",
    "        criterion_key=\"iou\"\n",
    "    ),\n",
    "    CriterionCallback(\n",
    "        input_key=\"mask\",\n",
    "        prefix=\"loss_bce\",\n",
    "        criterion_key=\"bce\"\n",
    "    ),\n",
    "\n",
    "    # And only then we aggregate everything into one loss.\n",
    "    MetricAggregationCallback(\n",
    "        prefix=\"loss\",\n",
    "        mode=\"weighted_sum\", # can be \"sum\", \"weighted_sum\" or \"mean\"\n",
    "        # because we want weighted sum, we need to add scale for each loss\n",
    "        metrics={\"loss_dice\": 1.0, \"loss_iou\": 1.0, \"loss_bce\": 0.8},\n",
    "    ),\n",
    "\n",
    "    # metrics\n",
    "    DiceCallback(input_key=\"mask\"),\n",
    "    IouCallback(input_key=\"mask\"),\n",
    "]\n",
    "\n",
    "\n",
    "runner.train(\n",
    "    model=model,\n",
    "    criterion=criterion,\n",
    "    optimizer=optimizer,\n",
    "    scheduler=scheduler,\n",
    "    # our dataloaders\n",
    "    loaders=loaders,\n",
    "    # We can specify the callbacks list for the experiment;\n",
    "    callbacks=callbacks,\n",
    "    # path to save logs\n",
    "    logdir=logdir,\n",
    "    num_epochs=num_epochs,\n",
    "    # save our best checkpoint by IoU metric\n",
    "    main_metric=\"iou\",\n",
    "    # IoU needs to be maximized.\n",
    "    minimize_metric=False,\n",
    "    # for FP16. It uses the variable from the very first cell\n",
    "#     fp16=fp16_params,\n",
    "    # prints train logs\n",
    "    verbose=True,\n",
    ")"
   ]
  },
  {
   "cell_type": "code",
   "execution_count": 4,
   "metadata": {},
   "outputs": [],
   "source": [
    "utils.process_model_params??"
   ]
  },
  {
   "cell_type": "code",
   "execution_count": null,
   "metadata": {},
   "outputs": [],
   "source": []
  }
 ],
 "metadata": {
  "kernelspec": {
   "display_name": "Python [conda env:solaris]",
   "language": "python",
   "name": "conda-env-solaris-py"
  },
  "language_info": {
   "codemirror_mode": {
    "name": "ipython",
    "version": 3
   },
   "file_extension": ".py",
   "mimetype": "text/x-python",
   "name": "python",
   "nbconvert_exporter": "python",
   "pygments_lexer": "ipython3",
   "version": "3.7.6"
  }
 },
 "nbformat": 4,
 "nbformat_minor": 2
}
